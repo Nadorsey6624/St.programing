{
 "cells": [
  {
   "cell_type": "code",
   "execution_count": 1,
   "metadata": {},
   "outputs": [
    {
     "name": "stdout",
     "output_type": "stream",
     "text": [
      "3.1389713844929354\n"
     ]
    }
   ],
   "source": [
    "def wallis(n):\n",
    "    pi = 2 \n",
    "    for i in range(1,n):\n",
    "        left = (2 * i)/(2 * i -1)\n",
    "        right = (2 * i)/(2 * i + 1)\n",
    "        pi = pi * left * right \n",
    "    return pi\n",
    "print(wallis(300))"
   ]
  },
  {
   "cell_type": "code",
   "execution_count": 1,
   "metadata": {},
   "outputs": [
    {
     "name": "stdout",
     "output_type": "stream",
     "text": [
      "55\n"
     ]
    }
   ],
   "source": [
    "def nth_fibonacci(n):\n",
    "    if n <= 1:\n",
    "        return n\n",
    "    return nth_fibonacci(n-1) + nth_fibonacci(n-2)\n",
    "\n",
    "n = int(input(\"Enter a number: \"))\n",
    "result = nth_fibonacci(n)\n",
    "print(result)\n"
   ]
  },
  {
   "cell_type": "code",
   "execution_count": null,
   "metadata": {},
   "outputs": [
    {
     "name": "stdout",
     "output_type": "stream",
     "text": [
      "Li is less than C\n",
      "Na is greater than C\n",
      "Na is greater than C but Li is less than C\n",
      "C and Na are greater than Li\n"
     ]
    }
   ],
   "source": [
    "Li = [3]\n",
    "C = [6]\n",
    "Na = [11]\n",
    "\n",
    "if Li >= C:\n",
    "    print(\"Li is greater than or equal to C\")\n",
    "else:\n",
    "    print(\"Li is less than C\")\n",
    "\n",
    "if Na <= C:\n",
    "    print(\"Na is less than or equal to C\")\n",
    "else:\n",
    "    print(\"Na is greater than C\")\n",
    "\n",
    "    if Li >= C:\n",
    "        print(\"Both Na and Li are greater than or equal to C\")\n",
    "    else:\n",
    "        print(\"Na is greater than C but Li is less than C\")\n",
    "\n",
    "if Na < C and Li < C:\n",
    "    print(\"Both Na and Li are less than C\")\n",
    "elif C >= Li and Na < C:\n",
    "    print(\"C and Na are greater than Li\")\n",
    "\n",
    "if Li < C and Li< Na:\n",
    "    print(\"C and Na are greater than Li\")\n"
   ]
  },
  {
   "cell_type": "code",
   "execution_count": 2,
   "metadata": {},
   "outputs": [
    {
     "name": "stdout",
     "output_type": "stream",
     "text": [
      "[]\n"
     ]
    }
   ],
   "source": [
    "\n",
    "\n",
    "adenine = \"A\"\n",
    "Thymine = \"T\"\n",
    "Gaunine = \"G\"\n",
    "Cyostine = \"C\"\n",
    " \n",
    "complimentary_strand = []\n",
    "valid_pairs = [\n",
    "\t\t(adenine, Thymine),\n",
    "\t\t(Thymine, adenine),\n",
    "\t\t(Gaunine, Cyostine),\n",
    "\t\t(Cyostine, Gaunine)\n",
    "\t]\n",
    "Dna_sequence = input(\"please Input DNA sequence\")\n",
    "\n",
    "for base in Dna_sequence:\n",
    "\tfor pair in valid_pairs:\n",
    "\t\tif base == pair[0]:\n",
    "\t\t\tcomplimentary_strand.append(pair[1])\n",
    "\t\t\tbreak\n",
    "\n",
    "print(complimentary_strand)\n",
    "\n"
   ]
  },
  {
   "cell_type": "code",
   "execution_count": null,
   "metadata": {},
   "outputs": [
    {
     "name": "stdout",
     "output_type": "stream",
     "text": [
      "7.0 M/s\n"
     ]
    }
   ],
   "source": [
    "def rate(A0, k=1.0, n=1, units='M/s'):\n",
    "    result = k * A0 ** n\n",
    "    return f\"{result} {units}\"\n",
    "\n",
    "print(rate(7.0, k=1.0, n=1))"
   ]
  },
  {
   "cell_type": "code",
   "execution_count": 2,
   "metadata": {},
   "outputs": [
    {
     "name": "stdout",
     "output_type": "stream",
     "text": [
      "[['O' '0.000000' '-0.007156' '0.965491']\n",
      " ['H1' '-0.000000' '0.001486' '-0.003471']\n",
      " ['H2' '0.000000' '0.931026' '1.207929']]\n",
      "Atoms name:\n",
      "['O' 'H1' 'H2']\n",
      "\n",
      "Atom coordinates:\n",
      "[[ 0.       -0.007156  0.965491]\n",
      " [-0.        0.001486 -0.003471]\n",
      " [ 0.        0.931026  1.207929]]\n"
     ]
    }
   ],
   "source": [
    "import numpy as np\n",
    "\n",
    "file_path = r'C:\\Users\\noahd\\Downloads\\water (1).xyz'\n",
    "\n",
    "data = np.genfromtxt(file_path, skip_header=2, dtype='unicode')\n",
    "print(data)\n",
    "\n",
    "atoms = data[:, 0]\n",
    "coodrdinates = data[:, 1:].astype(float)\n",
    "\n",
    "print(\"Atoms name:\")\n",
    "print(atoms)\n",
    "\n",
    "print(\"\\nAtom coordinates:\")\n",
    "print(coodrdinates)"
   ]
  },
  {
   "cell_type": "code",
   "execution_count": 6,
   "metadata": {},
   "outputs": [
    {
     "name": "stdout",
     "output_type": "stream",
     "text": [
      "Ar1:\n",
      "[ 0  1  2  3  4  5  6  7  8  9 10 11 12 13 14]\n",
      "n\\Reshaped array (3 by 5):\n",
      "[[ 0  1  2  3  4]\n",
      " [ 5  6  7  8  9]\n",
      " [10 11 12 13 14]]\n",
      "\n",
      "Transposed array (5 by 3):\n",
      "[[ 0  5 10]\n",
      " [ 1  6 11]\n",
      " [ 2  7 12]\n",
      " [ 3  8 13]\n",
      " [ 4  9 14]]\n",
      "\n",
      "Flat array:\n",
      "[ 0  5 10  1  6 11  2  7 12  3  8 13  4  9 14]\n"
     ]
    }
   ],
   "source": [
    "Ar1 = np.arange(15)\n",
    "print(\"Ar1:\")\n",
    "print(Ar1)\n",
    "\n",
    "Ar1_reshaped = Ar1.reshape(3,5)\n",
    "print(\"n\\Reshaped array (3 by 5):\")\n",
    "print(Ar1_reshaped)\n",
    "\n",
    "Ar1_transposed = Ar1_reshaped.T\n",
    "print(\"\\nTransposed array (5 by 3):\")\n",
    "print(Ar1_transposed)\n",
    "\n",
    "Ar1_flat = Ar1_transposed.ravel()\n",
    "print(\"\\nFlat array:\")\n",
    "print(Ar1_flat)"
   ]
  },
  {
   "cell_type": "code",
   "execution_count": 11,
   "metadata": {},
   "outputs": [
    {
     "name": "stdout",
     "output_type": "stream",
     "text": [
      "\n",
      "Random 2D array (5x3):\n",
      "[[5 0 0]\n",
      " [5 2 7]\n",
      " [7 7 6]\n",
      " [1 9 4]\n",
      " [1 1 5]]\n",
      "\n",
      "Second element of the third column:\n",
      "7\n",
      "\n",
      "Third row:\n",
      "[7 7 6]\n",
      "\n",
      "First column:\n",
      "[5 5 7 1 1]\n",
      "\n",
      "Last two elements of the first row:\n",
      "[0 0]\n"
     ]
    }
   ],
   "source": [
    "Ar2 = np.random.randint(0, high=10, size=15).reshape(5, 3)\n",
    "print(\"\\nRandom 2D array (5x3):\")\n",
    "print(Ar2)\n",
    "\n",
    "element = Ar2[1, 2]\n",
    "print(\"\\nSecond element of the third column:\")\n",
    "print(element)\n",
    "\n",
    "third_row = Ar2[2, :]\n",
    "print(\"\\nThird row:\")\n",
    "print(third_row)\n",
    "\n",
    "first_column = Ar2[:, 0]\n",
    "print(\"\\nFirst column:\")\n",
    "print(first_column)\n",
    "\n",
    "last_two_elements = Ar2[0, -2:]\n",
    "print(\"\\nLast two elements of the first row:\")\n",
    "print(last_two_elements)"
   ]
  },
  {
   "cell_type": "code",
   "execution_count": null,
   "metadata": {},
   "outputs": [],
   "source": []
  }
 ],
 "metadata": {
  "kernelspec": {
   "display_name": "Python 3",
   "language": "python",
   "name": "python3"
  },
  "language_info": {
   "codemirror_mode": {
    "name": "ipython",
    "version": 3
   },
   "file_extension": ".py",
   "mimetype": "text/x-python",
   "name": "python",
   "nbconvert_exporter": "python",
   "pygments_lexer": "ipython3",
   "version": "3.9.12"
  }
 },
 "nbformat": 4,
 "nbformat_minor": 2
}
