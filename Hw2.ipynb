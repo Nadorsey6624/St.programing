{
 "cells": [
  {
   "cell_type": "code",
   "execution_count": 1,
   "metadata": {},
   "outputs": [
    {
     "name": "stdout",
     "output_type": "stream",
     "text": [
      "3.1389713844929354\n"
     ]
    }
   ],
   "source": [
    "def wallis(n):\n",
    "    pi = 2 \n",
    "    for i in range(1,n):\n",
    "        left = (2 * i)/(2 * i -1)\n",
    "        right = (2 * i)/(2 * i + 1)\n",
    "        pi = pi * left * right \n",
    "    return pi\n",
    "print(wallis(300))"
   ]
  },
  {
   "cell_type": "code",
   "execution_count": 1,
   "metadata": {},
   "outputs": [
    {
     "name": "stdout",
     "output_type": "stream",
     "text": [
      "55\n"
     ]
    }
   ],
   "source": [
    "def nth_fibonacci(n):\n",
    "    if n <= 1:\n",
    "        return n\n",
    "    return nth_fibonacci(n-1) + nth_fibonacci(n-2)\n",
    "\n",
    "n = int(input(\"Enter a number: \"))\n",
    "result = nth_fibonacci(n)\n",
    "print(result)\n"
   ]
  },
  {
   "cell_type": "code",
   "execution_count": null,
   "metadata": {},
   "outputs": [
    {
     "name": "stdout",
     "output_type": "stream",
     "text": [
      "Li is less than C\n",
      "Na is greater than C\n",
      "Na is greater than C but Li is less than C\n",
      "C and Na are greater than Li\n"
     ]
    }
   ],
   "source": [
    "Li = [3]\n",
    "C = [6]\n",
    "Na = [11]\n",
    "\n",
    "if Li >= C:\n",
    "    print(\"Li is greater than or equal to C\")\n",
    "else:\n",
    "    print(\"Li is less than C\")\n",
    "\n",
    "if Na <= C:\n",
    "    print(\"Na is less than or equal to C\")\n",
    "else:\n",
    "    print(\"Na is greater than C\")\n",
    "\n",
    "    if Li >= C:\n",
    "        print(\"Both Na and Li are greater than or equal to C\")\n",
    "    else:\n",
    "        print(\"Na is greater than C but Li is less than C\")\n",
    "\n",
    "if Na < C and Li < C:\n",
    "    print(\"Both Na and Li are less than C\")\n",
    "elif C >= Li and Na < C:\n",
    "    print(\"C and Na are greater than Li\")\n",
    "\n",
    "if Li < C and Li< Na:\n",
    "    print(\"C and Na are greater than Li\")\n"
   ]
  },
  {
   "cell_type": "code",
   "execution_count": 2,
   "metadata": {},
   "outputs": [
    {
     "name": "stdout",
     "output_type": "stream",
     "text": [
      "[]\n"
     ]
    }
   ],
   "source": [
    "\n",
    "\n",
    "adenine = \"A\"\n",
    "Thymine = \"T\"\n",
    "Gaunine = \"G\"\n",
    "Cyostine = \"C\"\n",
    " \n",
    "complimentary_strand = []\n",
    "valid_pairs = [\n",
    "\t\t(adenine, Thymine),\n",
    "\t\t(Thymine, adenine),\n",
    "\t\t(Gaunine, Cyostine),\n",
    "\t\t(Cyostine, Gaunine)\n",
    "\t]\n",
    "Dna_sequence = input(\"please Input DNA sequence\")\n",
    "\n",
    "for base in Dna_sequence:\n",
    "\tfor pair in valid_pairs:\n",
    "\t\tif base == pair[0]:\n",
    "\t\t\tcomplimentary_strand.append(pair[1])\n",
    "\t\t\tbreak\n",
    "\n",
    "print(complimentary_strand)\n",
    "\n"
   ]
  },
  {
   "cell_type": "code",
   "execution_count": null,
   "metadata": {},
   "outputs": [
    {
     "name": "stdout",
     "output_type": "stream",
     "text": [
      "7.0 M/s\n"
     ]
    }
   ],
   "source": [
    "def rate(A0, k=1.0, n=1, units='M/s'):\n",
    "    result = k * A0 ** n\n",
    "    return f\"{result} {units}\"\n",
    "\n",
    "print(rate(7.0, k=1.0, n=1))"
   ]
  },
  {
   "cell_type": "code",
   "execution_count": 45,
   "metadata": {},
   "outputs": [
    {
     "name": "stdout",
     "output_type": "stream",
     "text": [
      "[['O' '0.000000' '-0.007156' '0.965491']\n",
      " ['H1' '-0.000000' '0.001486' '-0.003471']\n",
      " ['H2' '0.000000' '0.931026' '1.207929']]\n"
     ]
    }
   ],
   "source": [
    "import numpy as np\n",
    "\n",
    "file_path = r'C:\\Users\\noahd\\Downloads\\water (1).xyz'\n",
    "\n",
    "data = np.genfromtxt(file_path, skip_header=2, dtype='unicode')\n",
    "print(data)\n"
   ]
  },
  {
   "cell_type": "code",
   "execution_count": null,
   "metadata": {},
   "outputs": [],
   "source": []
  }
 ],
 "metadata": {
  "kernelspec": {
   "display_name": "Python 3",
   "language": "python",
   "name": "python3"
  },
  "language_info": {
   "codemirror_mode": {
    "name": "ipython",
    "version": 3
   },
   "file_extension": ".py",
   "mimetype": "text/x-python",
   "name": "python",
   "nbconvert_exporter": "python",
   "pygments_lexer": "ipython3",
   "version": "3.9.12"
  }
 },
 "nbformat": 4,
 "nbformat_minor": 2
}
