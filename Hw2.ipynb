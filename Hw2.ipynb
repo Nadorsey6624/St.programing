{
 "cells": [
  {
   "cell_type": "code",
   "execution_count": 1,
   "metadata": {},
   "outputs": [
    {
     "name": "stdout",
     "output_type": "stream",
     "text": [
      "3.1389713844929354\n"
     ]
    }
   ],
   "source": [
    "def wallis(n):\n",
    "    pi = 2 \n",
    "    for i in range(1,n):\n",
    "        left = (2 * i)/(2 * i -1)\n",
    "        right = (2 * i)/(2 * i + 1)\n",
    "        pi = pi * left * right \n",
    "    return pi\n",
    "print(wallis(300))"
   ]
  },
  {
   "cell_type": "code",
   "execution_count": 2,
   "metadata": {},
   "outputs": [
    {
     "ename": "ValueError",
     "evalue": "invalid literal for int() with base 10: ''",
     "output_type": "error",
     "traceback": [
      "\u001b[1;31m---------------------------------------------------------------------------\u001b[0m",
      "\u001b[1;31mValueError\u001b[0m                                Traceback (most recent call last)",
      "Cell \u001b[1;32mIn[2], line 6\u001b[0m\n\u001b[0;32m      3\u001b[0m         \u001b[38;5;28;01mreturn\u001b[39;00m n\n\u001b[0;32m      4\u001b[0m     \u001b[38;5;28;01mreturn\u001b[39;00m nth_fibonacci(n\u001b[38;5;241m-\u001b[39m\u001b[38;5;241m1\u001b[39m) \u001b[38;5;241m+\u001b[39m nth_fibonacci(n\u001b[38;5;241m-\u001b[39m\u001b[38;5;241m2\u001b[39m)\n\u001b[1;32m----> 6\u001b[0m n \u001b[38;5;241m=\u001b[39m \u001b[38;5;28;43mint\u001b[39;49m\u001b[43m(\u001b[49m\u001b[38;5;28;43minput\u001b[39;49m\u001b[43m(\u001b[49m\u001b[38;5;124;43m\"\u001b[39;49m\u001b[38;5;124;43mEnter a number: \u001b[39;49m\u001b[38;5;124;43m\"\u001b[39;49m\u001b[43m)\u001b[49m\u001b[43m)\u001b[49m\n\u001b[0;32m      7\u001b[0m result \u001b[38;5;241m=\u001b[39m nth_fibonacci(n)\n\u001b[0;32m      8\u001b[0m \u001b[38;5;28mprint\u001b[39m(result)\n",
      "\u001b[1;31mValueError\u001b[0m: invalid literal for int() with base 10: ''"
     ]
    }
   ],
   "source": [
    "def nth_fibonacci(n):\n",
    "    if n <= 1:\n",
    "        return n\n",
    "    return nth_fibonacci(n-1) + nth_fibonacci(n-2)\n",
    "\n",
    "n = int(input(\"Enter a number: \"))\n",
    "result = nth_fibonacci(n)\n",
    "print(result)\n"
   ]
  },
  {
   "cell_type": "code",
   "execution_count": null,
   "metadata": {},
   "outputs": [
    {
     "name": "stdout",
     "output_type": "stream",
     "text": [
      "Li is less than C\n",
      "Na is greater than C\n",
      "Na is greater than C but Li is less than C\n",
      "C and Na are greater than Li\n"
     ]
    }
   ],
   "source": [
    "Li = [3]\n",
    "C = [6]\n",
    "Na = [11]\n",
    "\n",
    "if Li >= C:\n",
    "    print(\"Li is greater than or equal to C\")\n",
    "else:\n",
    "    print(\"Li is less than C\")\n",
    "\n",
    "if Na <= C:\n",
    "    print(\"Na is less than or equal to C\")\n",
    "else:\n",
    "    print(\"Na is greater than C\")\n",
    "\n",
    "    if Li >= C:\n",
    "        print(\"Both Na and Li are greater than or equal to C\")\n",
    "    else:\n",
    "        print(\"Na is greater than C but Li is less than C\")\n",
    "\n",
    "if Na < C and Li < C:\n",
    "    print(\"Both Na and Li are less than C\")\n",
    "elif C >= Li and Na < C:\n",
    "    print(\"C and Na are greater than Li\")\n",
    "\n",
    "if Li < C and Li< Na:\n",
    "    print(\"C and Na are greater than Li\")\n"
   ]
  },
  {
   "cell_type": "code",
   "execution_count": null,
   "metadata": {},
   "outputs": [
    {
     "ename": "",
     "evalue": "",
     "output_type": "error",
     "traceback": [
      "\u001b[1;31mCannot execute code, session has been disposed. Please try restarting the Kernel."
     ]
    },
    {
     "ename": "",
     "evalue": "",
     "output_type": "error",
     "traceback": [
      "\u001b[1;31mCannot execute code, session has been disposed. Please try restarting the Kernel. \n",
      "\u001b[1;31mView Jupyter <a href='command:jupyter.viewOutput'>log</a> for further details."
     ]
    }
   ],
   "source": [
    "\n",
    "\n",
    "adenine = \"A\"\n",
    "Thymine = \"T\"\n",
    "Gaunine = \"G\"\n",
    "Cyostine = \"C\"\n",
    " \n",
    "complimentary_strand = []\n",
    "valid_pairs = [\n",
    "\t\t(adenine, Thymine),\n",
    "\t\t(Thymine, adenine),\n",
    "\t\t(Gaunine, Cyostine),\n",
    "\t\t(Cyostine, Gaunine)\n",
    "\t]\n",
    "Dna_sequence = input(\"please Input DNA sequence\")\n",
    "\n",
    "for base in Dna_sequence:\n",
    "\tfor pair in valid_pairs:\n",
    "\t\tif base == pair[0]:\n",
    "\t\t\tcomplimentary_strand.append(pair[1])\n",
    "\t\t\tbreak\n",
    "\n",
    "print(complimentary_strand)\n",
    "\n"
   ]
  },
  {
   "cell_type": "code",
   "execution_count": null,
   "metadata": {},
   "outputs": [
    {
     "name": "stdout",
     "output_type": "stream",
     "text": [
      "7.0 M/s\n"
     ]
    }
   ],
   "source": [
    "def rate(A0, k=1.0, n=1, units='M/s'):\n",
    "    result = k * A0 ** n\n",
    "    return f\"{result} {units}\"\n",
    "\n",
    "print(rate(7.0, k=1.0, n=1))"
   ]
  },
  {
   "cell_type": "code",
   "execution_count": 7,
   "metadata": {},
   "outputs": [
    {
     "ename": "NameError",
     "evalue": "name 'file' is not defined",
     "output_type": "error",
     "traceback": [
      "\u001b[1;31m---------------------------------------------------------------------------\u001b[0m",
      "\u001b[1;31mNameError\u001b[0m                                 Traceback (most recent call last)",
      "Cell \u001b[1;32mIn[7], line 1\u001b[0m\n\u001b[1;32m----> 1\u001b[0m filename \u001b[38;5;241m=\u001b[39m \u001b[43mfile\u001b[49m\u001b[38;5;241m.\u001b[39mread(Users\u001b[38;5;241m/\u001b[39mnoahd\u001b[38;5;241m/\u001b[39mDownloads\u001b[38;5;241m/\u001b[39mwater\u001b[38;5;241m.\u001b[39mxyz)\n",
      "\u001b[1;31mNameError\u001b[0m: name 'file' is not defined"
     ]
    }
   ],
   "source": [
    "filename = file.read(Users/noahd/Downloads/water.xyz)"
   ]
  }
 ],
 "metadata": {
  "kernelspec": {
   "display_name": "Python 3",
   "language": "python",
   "name": "python3"
  },
  "language_info": {
   "codemirror_mode": {
    "name": "ipython",
    "version": 3
   },
   "file_extension": ".py",
   "mimetype": "text/x-python",
   "name": "python",
   "nbconvert_exporter": "python",
   "pygments_lexer": "ipython3",
   "version": "3.9.12"
  }
 },
 "nbformat": 4,
 "nbformat_minor": 2
}
