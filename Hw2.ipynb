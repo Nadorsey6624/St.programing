{
 "cells": [
  {
   "cell_type": "code",
   "execution_count": 1,
   "metadata": {},
   "outputs": [
    {
     "name": "stdout",
     "output_type": "stream",
     "text": [
      "3.1389713844929354\n"
     ]
    }
   ],
   "source": [
    "def wallis(n):\n",
    "    pi = 2 \n",
    "    for i in range(1,n):\n",
    "        left = (2 * i)/(2 * i -1)\n",
    "        right = (2 * i)/(2 * i + 1)\n",
    "        pi = pi * left * right \n",
    "    return pi\n",
    "print(wallis(300))"
   ]
  },
  {
   "cell_type": "code",
   "execution_count": 2,
   "metadata": {},
   "outputs": [
    {
     "name": "stdout",
     "output_type": "stream",
     "text": [
      "1\n"
     ]
    }
   ],
   "source": [
    "def nth_fibonacci(n):\n",
    "    if n <= 1:\n",
    "        return n\n",
    "    return nth_fibonacci(n-1) + nth_fibonacci(n-2)\n",
    "\n",
    "n = int(input(\"Enter a number: \"))\n",
    "result = nth_fibonacci(n)\n",
    "print(result)\n"
   ]
  },
  {
   "cell_type": "code",
   "execution_count": 12,
   "metadata": {},
   "outputs": [
    {
     "name": "stdout",
     "output_type": "stream",
     "text": [
      "Li is less than C\n",
      "Na is greater than C\n",
      "Na is greater than C but Li is less than C\n",
      "C and Na are greater than Li\n"
     ]
    }
   ],
   "source": [
    "Li = [3]\n",
    "C = [6]\n",
    "Na = [11]\n",
    "\n",
    "if Li >= C:\n",
    "    print(\"Li is greater than or equal to C\")\n",
    "else:\n",
    "    print(\"Li is less than C\")\n",
    "\n",
    "if Na <= C:\n",
    "    print(\"Na is less than or equal to C\")\n",
    "else:\n",
    "    print(\"Na is greater than C\")\n",
    "\n",
    "    if Li >= C:\n",
    "        print(\"Both Na and Li are greater than or equal to C\")\n",
    "    else:\n",
    "        print(\"Na is greater than C but Li is less than C\")\n",
    "\n",
    "if Na < C and Li < C:\n",
    "    print(\"Both Na and Li are less than C\")\n",
    "elif C >= Li and Na < C:\n",
    "    print(\"C and Na are greater than Li\")\n",
    "\n",
    "if Li < C and Li< Na:\n",
    "    print(\"C and Na are greater than Li\")\n"
   ]
  },
  {
   "cell_type": "code",
   "execution_count": null,
   "metadata": {},
   "outputs": [
    {
     "name": "stdout",
     "output_type": "stream",
     "text": [
      "[('A', 'A', 'A', 'A'), ('A', 'A', 'A', 'T'), ('A', 'A', 'A', 'G'), ('A', 'A', 'A', 'C'), ('A', 'A', 'T', 'A'), ('A', 'A', 'T', 'T'), ('A', 'A', 'T', 'G'), ('A', 'A', 'T', 'C'), ('A', 'A', 'G', 'A'), ('A', 'A', 'G', 'T'), ('A', 'A', 'G', 'G'), ('A', 'A', 'G', 'C'), ('A', 'A', 'C', 'A'), ('A', 'A', 'C', 'T'), ('A', 'A', 'C', 'G'), ('A', 'A', 'C', 'C'), ('A', 'T', 'A', 'A'), ('A', 'T', 'A', 'T'), ('A', 'T', 'A', 'G'), ('A', 'T', 'A', 'C'), ('A', 'T', 'T', 'A'), ('A', 'T', 'T', 'T'), ('A', 'T', 'T', 'G'), ('A', 'T', 'T', 'C'), ('A', 'T', 'G', 'A'), ('A', 'T', 'G', 'T'), ('A', 'T', 'G', 'G'), ('A', 'T', 'G', 'C'), ('A', 'T', 'C', 'A'), ('A', 'T', 'C', 'T'), ('A', 'T', 'C', 'G'), ('A', 'T', 'C', 'C'), ('A', 'G', 'A', 'A'), ('A', 'G', 'A', 'T'), ('A', 'G', 'A', 'G'), ('A', 'G', 'A', 'C'), ('A', 'G', 'T', 'A'), ('A', 'G', 'T', 'T'), ('A', 'G', 'T', 'G'), ('A', 'G', 'T', 'C'), ('A', 'G', 'G', 'A'), ('A', 'G', 'G', 'T'), ('A', 'G', 'G', 'G'), ('A', 'G', 'G', 'C'), ('A', 'G', 'C', 'A'), ('A', 'G', 'C', 'T'), ('A', 'G', 'C', 'G'), ('A', 'G', 'C', 'C'), ('A', 'C', 'A', 'A'), ('A', 'C', 'A', 'T'), ('A', 'C', 'A', 'G'), ('A', 'C', 'A', 'C'), ('A', 'C', 'T', 'A'), ('A', 'C', 'T', 'T'), ('A', 'C', 'T', 'G'), ('A', 'C', 'T', 'C'), ('A', 'C', 'G', 'A'), ('A', 'C', 'G', 'T'), ('A', 'C', 'G', 'G'), ('A', 'C', 'G', 'C'), ('A', 'C', 'C', 'A'), ('A', 'C', 'C', 'T'), ('A', 'C', 'C', 'G'), ('A', 'C', 'C', 'C'), ('T', 'A', 'A', 'A'), ('T', 'A', 'A', 'T'), ('T', 'A', 'A', 'G'), ('T', 'A', 'A', 'C'), ('T', 'A', 'T', 'A'), ('T', 'A', 'T', 'T'), ('T', 'A', 'T', 'G'), ('T', 'A', 'T', 'C'), ('T', 'A', 'G', 'A'), ('T', 'A', 'G', 'T'), ('T', 'A', 'G', 'G'), ('T', 'A', 'G', 'C'), ('T', 'A', 'C', 'A'), ('T', 'A', 'C', 'T'), ('T', 'A', 'C', 'G'), ('T', 'A', 'C', 'C'), ('T', 'T', 'A', 'A'), ('T', 'T', 'A', 'T'), ('T', 'T', 'A', 'G'), ('T', 'T', 'A', 'C'), ('T', 'T', 'T', 'A'), ('T', 'T', 'T', 'T'), ('T', 'T', 'T', 'G'), ('T', 'T', 'T', 'C'), ('T', 'T', 'G', 'A'), ('T', 'T', 'G', 'T'), ('T', 'T', 'G', 'G'), ('T', 'T', 'G', 'C'), ('T', 'T', 'C', 'A'), ('T', 'T', 'C', 'T'), ('T', 'T', 'C', 'G'), ('T', 'T', 'C', 'C'), ('T', 'G', 'A', 'A'), ('T', 'G', 'A', 'T'), ('T', 'G', 'A', 'G'), ('T', 'G', 'A', 'C'), ('T', 'G', 'T', 'A'), ('T', 'G', 'T', 'T'), ('T', 'G', 'T', 'G'), ('T', 'G', 'T', 'C'), ('T', 'G', 'G', 'A'), ('T', 'G', 'G', 'T'), ('T', 'G', 'G', 'G'), ('T', 'G', 'G', 'C'), ('T', 'G', 'C', 'A'), ('T', 'G', 'C', 'T'), ('T', 'G', 'C', 'G'), ('T', 'G', 'C', 'C'), ('T', 'C', 'A', 'A'), ('T', 'C', 'A', 'T'), ('T', 'C', 'A', 'G'), ('T', 'C', 'A', 'C'), ('T', 'C', 'T', 'A'), ('T', 'C', 'T', 'T'), ('T', 'C', 'T', 'G'), ('T', 'C', 'T', 'C'), ('T', 'C', 'G', 'A'), ('T', 'C', 'G', 'T'), ('T', 'C', 'G', 'G'), ('T', 'C', 'G', 'C'), ('T', 'C', 'C', 'A'), ('T', 'C', 'C', 'T'), ('T', 'C', 'C', 'G'), ('T', 'C', 'C', 'C'), ('G', 'A', 'A', 'A'), ('G', 'A', 'A', 'T'), ('G', 'A', 'A', 'G'), ('G', 'A', 'A', 'C'), ('G', 'A', 'T', 'A'), ('G', 'A', 'T', 'T'), ('G', 'A', 'T', 'G'), ('G', 'A', 'T', 'C'), ('G', 'A', 'G', 'A'), ('G', 'A', 'G', 'T'), ('G', 'A', 'G', 'G'), ('G', 'A', 'G', 'C'), ('G', 'A', 'C', 'A'), ('G', 'A', 'C', 'T'), ('G', 'A', 'C', 'G'), ('G', 'A', 'C', 'C'), ('G', 'T', 'A', 'A'), ('G', 'T', 'A', 'T'), ('G', 'T', 'A', 'G'), ('G', 'T', 'A', 'C'), ('G', 'T', 'T', 'A'), ('G', 'T', 'T', 'T'), ('G', 'T', 'T', 'G'), ('G', 'T', 'T', 'C'), ('G', 'T', 'G', 'A'), ('G', 'T', 'G', 'T'), ('G', 'T', 'G', 'G'), ('G', 'T', 'G', 'C'), ('G', 'T', 'C', 'A'), ('G', 'T', 'C', 'T'), ('G', 'T', 'C', 'G'), ('G', 'T', 'C', 'C'), ('G', 'G', 'A', 'A'), ('G', 'G', 'A', 'T'), ('G', 'G', 'A', 'G'), ('G', 'G', 'A', 'C'), ('G', 'G', 'T', 'A'), ('G', 'G', 'T', 'T'), ('G', 'G', 'T', 'G'), ('G', 'G', 'T', 'C'), ('G', 'G', 'G', 'A'), ('G', 'G', 'G', 'T'), ('G', 'G', 'G', 'G'), ('G', 'G', 'G', 'C'), ('G', 'G', 'C', 'A'), ('G', 'G', 'C', 'T'), ('G', 'G', 'C', 'G'), ('G', 'G', 'C', 'C'), ('G', 'C', 'A', 'A'), ('G', 'C', 'A', 'T'), ('G', 'C', 'A', 'G'), ('G', 'C', 'A', 'C'), ('G', 'C', 'T', 'A'), ('G', 'C', 'T', 'T'), ('G', 'C', 'T', 'G'), ('G', 'C', 'T', 'C'), ('G', 'C', 'G', 'A'), ('G', 'C', 'G', 'T'), ('G', 'C', 'G', 'G'), ('G', 'C', 'G', 'C'), ('G', 'C', 'C', 'A'), ('G', 'C', 'C', 'T'), ('G', 'C', 'C', 'G'), ('G', 'C', 'C', 'C'), ('C', 'A', 'A', 'A'), ('C', 'A', 'A', 'T'), ('C', 'A', 'A', 'G'), ('C', 'A', 'A', 'C'), ('C', 'A', 'T', 'A'), ('C', 'A', 'T', 'T'), ('C', 'A', 'T', 'G'), ('C', 'A', 'T', 'C'), ('C', 'A', 'G', 'A'), ('C', 'A', 'G', 'T'), ('C', 'A', 'G', 'G'), ('C', 'A', 'G', 'C'), ('C', 'A', 'C', 'A'), ('C', 'A', 'C', 'T'), ('C', 'A', 'C', 'G'), ('C', 'A', 'C', 'C'), ('C', 'T', 'A', 'A'), ('C', 'T', 'A', 'T'), ('C', 'T', 'A', 'G'), ('C', 'T', 'A', 'C'), ('C', 'T', 'T', 'A'), ('C', 'T', 'T', 'T'), ('C', 'T', 'T', 'G'), ('C', 'T', 'T', 'C'), ('C', 'T', 'G', 'A'), ('C', 'T', 'G', 'T'), ('C', 'T', 'G', 'G'), ('C', 'T', 'G', 'C'), ('C', 'T', 'C', 'A'), ('C', 'T', 'C', 'T'), ('C', 'T', 'C', 'G'), ('C', 'T', 'C', 'C'), ('C', 'G', 'A', 'A'), ('C', 'G', 'A', 'T'), ('C', 'G', 'A', 'G'), ('C', 'G', 'A', 'C'), ('C', 'G', 'T', 'A'), ('C', 'G', 'T', 'T'), ('C', 'G', 'T', 'G'), ('C', 'G', 'T', 'C'), ('C', 'G', 'G', 'A'), ('C', 'G', 'G', 'T'), ('C', 'G', 'G', 'G'), ('C', 'G', 'G', 'C'), ('C', 'G', 'C', 'A'), ('C', 'G', 'C', 'T'), ('C', 'G', 'C', 'G'), ('C', 'G', 'C', 'C'), ('C', 'C', 'A', 'A'), ('C', 'C', 'A', 'T'), ('C', 'C', 'A', 'G'), ('C', 'C', 'A', 'C'), ('C', 'C', 'T', 'A'), ('C', 'C', 'T', 'T'), ('C', 'C', 'T', 'G'), ('C', 'C', 'T', 'C'), ('C', 'C', 'G', 'A'), ('C', 'C', 'G', 'T'), ('C', 'C', 'G', 'G'), ('C', 'C', 'G', 'C'), ('C', 'C', 'C', 'A'), ('C', 'C', 'C', 'T'), ('C', 'C', 'C', 'G'), ('C', 'C', 'C', 'C')]\n"
     ]
    }
   ],
   "source": [
    "import itertools \n",
    "\n",
    "adenine = \"A\"\n",
    "Thymine = \"T\"\n",
    "Gaunine = \"G\"\n",
    "Cyostine = \"C\"\n",
    "\n"
   ]
  },
  {
   "cell_type": "code",
   "execution_count": 14,
   "metadata": {},
   "outputs": [
    {
     "name": "stdout",
     "output_type": "stream",
     "text": [
      "adenine\n"
     ]
    }
   ],
   "source": [
    "print(A)"
   ]
  },
  {
   "cell_type": "code",
   "execution_count": null,
   "metadata": {},
   "outputs": [],
   "source": []
  }
 ],
 "metadata": {
  "kernelspec": {
   "display_name": "Python 3",
   "language": "python",
   "name": "python3"
  },
  "language_info": {
   "codemirror_mode": {
    "name": "ipython",
    "version": 3
   },
   "file_extension": ".py",
   "mimetype": "text/x-python",
   "name": "python",
   "nbconvert_exporter": "python",
   "pygments_lexer": "ipython3",
   "version": "3.9.12"
  }
 },
 "nbformat": 4,
 "nbformat_minor": 2
}
