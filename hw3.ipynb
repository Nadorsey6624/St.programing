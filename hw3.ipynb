{
 "cells": [
  {
   "cell_type": "code",
   "execution_count": 9,
   "metadata": {},
   "outputs": [],
   "source": [
    "import pandas as pd \n",
    "import numpy as np \n",
    "import os \n",
    "\n",
    "with open(\"copy.txt\", \"w\") as file: \n",
    "    file.write(\"| Solvent | bp | mp | | :------: | :--: | :--: | | benzene | 80 | 6 | | acetone | 56 | -95 | | toluene | 111 | -95 | | pentane | 36 | -130 | | ether | 35 | -116 | | ethanol | 78 | -114 | | methanol | 65 | -98 |\")\n",
    "\n",
    "s1 = pd.Series(['benzene','acetone', 'toluene', 'pentane', 'ether','ethanol','mehtanol'])\n",
    "s2 = pd.Series([])"
   ]
  },
  {
   "cell_type": "code",
   "execution_count": null,
   "metadata": {},
   "outputs": [],
   "source": []
  }
 ],
 "metadata": {
  "kernelspec": {
   "display_name": "Python 3",
   "language": "python",
   "name": "python3"
  },
  "language_info": {
   "codemirror_mode": {
    "name": "ipython",
    "version": 3
   },
   "file_extension": ".py",
   "mimetype": "text/x-python",
   "name": "python",
   "nbconvert_exporter": "python",
   "pygments_lexer": "ipython3",
   "version": "3.9.12"
  }
 },
 "nbformat": 4,
 "nbformat_minor": 2
}
