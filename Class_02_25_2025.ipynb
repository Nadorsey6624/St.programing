{
 "cells": [
  {
   "cell_type": "code",
   "execution_count": 16,
   "metadata": {},
   "outputs": [],
   "source": [
    "import numpy as np \n",
    "import pandas as pd"
   ]
  },
  {
   "cell_type": "code",
   "execution_count": 17,
   "metadata": {},
   "outputs": [
    {
     "data": {
      "text/html": [
       "<div>\n",
       "<style scoped>\n",
       "    .dataframe tbody tr th:only-of-type {\n",
       "        vertical-align: middle;\n",
       "    }\n",
       "\n",
       "    .dataframe tbody tr th {\n",
       "        vertical-align: top;\n",
       "    }\n",
       "\n",
       "    .dataframe thead th {\n",
       "        text-align: right;\n",
       "    }\n",
       "</style>\n",
       "<table border=\"1\" class=\"dataframe\">\n",
       "  <thead>\n",
       "    <tr style=\"text-align: right;\">\n",
       "      <th></th>\n",
       "      <th>H</th>\n",
       "      <th>He</th>\n",
       "      <th>Li</th>\n",
       "      <th>Be</th>\n",
       "      <th>B</th>\n",
       "    </tr>\n",
       "  </thead>\n",
       "  <tbody>\n",
       "    <tr>\n",
       "      <th>name</th>\n",
       "      <td>hydrogen</td>\n",
       "      <td>helium</td>\n",
       "      <td>lithium</td>\n",
       "      <td>beryllium</td>\n",
       "      <td>boron</td>\n",
       "    </tr>\n",
       "    <tr>\n",
       "      <th>AN</th>\n",
       "      <td>1</td>\n",
       "      <td>2</td>\n",
       "      <td>3</td>\n",
       "      <td>4</td>\n",
       "      <td>5</td>\n",
       "    </tr>\n",
       "    <tr>\n",
       "      <th>mass</th>\n",
       "      <td>1.01</td>\n",
       "      <td>4.0</td>\n",
       "      <td>6.94</td>\n",
       "      <td>9.01</td>\n",
       "      <td>10.81</td>\n",
       "    </tr>\n",
       "    <tr>\n",
       "      <th>IE</th>\n",
       "      <td>13.6</td>\n",
       "      <td>24.6</td>\n",
       "      <td>5.4</td>\n",
       "      <td>9.3</td>\n",
       "      <td>8.3</td>\n",
       "    </tr>\n",
       "  </tbody>\n",
       "</table>\n",
       "</div>"
      ],
      "text/plain": [
       "             H      He       Li         Be      B\n",
       "name  hydrogen  helium  lithium  beryllium  boron\n",
       "AN           1       2        3          4      5\n",
       "mass      1.01     4.0     6.94       9.01  10.81\n",
       "IE        13.6    24.6      5.4        9.3    8.3"
      ]
     },
     "execution_count": 17,
     "metadata": {},
     "output_type": "execute_result"
    }
   ],
   "source": [
    "name = ['hydrogen', 'helium', 'lithium', 'beryllium','boron']\n",
    "AN = [1,2,3,4,5]\n",
    "mass = [1.01,4.00,6.94,9.01,10.81]\n",
    "IE = [13.6, 24.6, 5.4, 9.3, 8.3]\n",
    "columns = ['H', 'He', 'Li', 'Be','B'] \n",
    "index = ['name', 'AN', 'mass', 'IE']\n",
    "elements = pd.DataFrame([name, AN, mass, IE], \n",
    "                        columns=columns, index=index)\n",
    "elements"
   ]
  },
  {
   "cell_type": "code",
   "execution_count": 18,
   "metadata": {},
   "outputs": [
    {
     "ename": "NameError",
     "evalue": "name 'df' is not defined",
     "output_type": "error",
     "traceback": [
      "\u001b[1;31m---------------------------------------------------------------------------\u001b[0m",
      "\u001b[1;31mNameError\u001b[0m                                 Traceback (most recent call last)",
      "Cell \u001b[1;32mIn[18], line 1\u001b[0m\n\u001b[1;32m----> 1\u001b[0m \u001b[43mdf\u001b[49m\u001b[38;5;241m.\u001b[39mindex \u001b[38;5;241m=\u001b[39m[\u001b[38;5;124m'\u001b[39m\u001b[38;5;124mStandarState\u001b[39m\u001b[38;5;124m'\u001b[39m]\n\u001b[0;32m      2\u001b[0m df\n",
      "\u001b[1;31mNameError\u001b[0m: name 'df' is not defined"
     ]
    }
   ],
   "source": [
    "df.index =['StandarState']\n",
    "df"
   ]
  },
  {
   "cell_type": "code",
   "execution_count": null,
   "metadata": {},
   "outputs": [
    {
     "name": "stdout",
     "output_type": "stream",
     "text": [
      "  Unnamed: 0         H      He       Li         Be      B\n",
      "0       name  hydrogen  helium  lithium  beryllium  boron\n",
      "1         AN         1       2        3          4      5\n",
      "2       mass      1.01     4.0     6.94       9.01  10.81\n",
      "3         IE      13.6    24.6      5.4        9.3    8.3\n"
     ]
    }
   ],
   "source": [
    "elements_noindex = pd.read_csv('data/elements.csv')\n",
    "print(elements_noindex)"
   ]
  },
  {
   "cell_type": "code",
   "execution_count": null,
   "metadata": {},
   "outputs": [],
   "source": [
    "AR =['Atomic radiu', 120, 140, 182, 154, 192]"
   ]
  },
  {
   "cell_type": "code",
   "execution_count": 21,
   "metadata": {},
   "outputs": [
    {
     "name": "stdout",
     "output_type": "stream",
     "text": [
      "     Unnamed: 0         H      He       Li         Be      B\n",
      "0          name  hydrogen  helium  lithium  beryllium  boron\n",
      "1            AN         1       2        3          4      5\n",
      "2          mass      1.01     4.0     6.94       9.01  10.81\n",
      "3            IE      13.6    24.6      5.4        9.3    8.3\n",
      "4  Atomic radiu       120     140      182        154    192\n",
      "5  Atomic radiu       120     140      182        154    192\n",
      "6  Atomic radiu       120     140      182        154    192\n"
     ]
    }
   ],
   "source": [
    "elements_noindex.loc[len(elements_noindex)] = AR\n",
    "print(elements_noindex)"
   ]
  },
  {
   "cell_type": "code",
   "execution_count": null,
   "metadata": {},
   "outputs": [],
   "source": []
  }
 ],
 "metadata": {
  "kernelspec": {
   "display_name": "Python 3",
   "language": "python",
   "name": "python3"
  },
  "language_info": {
   "codemirror_mode": {
    "name": "ipython",
    "version": 3
   },
   "file_extension": ".py",
   "mimetype": "text/x-python",
   "name": "python",
   "nbconvert_exporter": "python",
   "pygments_lexer": "ipython3",
   "version": "3.9.12"
  }
 },
 "nbformat": 4,
 "nbformat_minor": 2
}
